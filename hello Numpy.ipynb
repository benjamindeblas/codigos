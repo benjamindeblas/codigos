{
 "cells": [
  {
   "cell_type": "code",
   "execution_count": 1,
   "id": "74040e5e",
   "metadata": {},
   "outputs": [],
   "source": [
    "import numpy as np"
   ]
  },
  {
   "cell_type": "code",
   "execution_count": null,
   "id": "67d3b17d",
   "metadata": {},
   "outputs": [],
   "source": [
    "a.shape\n",
    "(3, 5)\n",
    "a.ndim\n",
    "2\n",
    "a.dtype.name\n",
    "'int64'\n",
    "a.itemsize\n",
    "8\n",
    "a.size\n",
    "15\n",
    "type(a)\n",
    "<class 'numpy.ndarray'>\n",
    "b = np.array([6, 7, 8])\n",
    "b"
   ]
  },
  {
   "cell_type": "code",
   "execution_count": null,
   "id": "62f7f047",
   "metadata": {},
   "outputs": [
    {
     "data": {
      "text/plain": [
       "numpy.ndarray"
      ]
     },
     "execution_count": 22,
     "metadata": {},
     "output_type": "execute_result"
    }
   ],
   "source": [
    "a = np.arange(15).reshape(3,5)# arange(15)# .reshape(3, 5)\n",
    "a.size\n",
    "type(a)"
   ]
  },
  {
   "cell_type": "code",
   "execution_count": null,
   "id": "1cdd8aad",
   "metadata": {},
   "outputs": [
    {
     "data": {
      "text/plain": [
       "numpy.ndarray"
      ]
     },
     "execution_count": 24,
     "metadata": {},
     "output_type": "execute_result"
    }
   ],
   "source": [
    "b =np.array([1,6,4])\n",
    "b\n",
    "type(b)\n"
   ]
  },
  {
   "cell_type": "markdown",
   "id": "63ff8164",
   "metadata": {},
   "source": [
    "## parte 2"
   ]
  },
  {
   "cell_type": "code",
   "execution_count": null,
   "id": "fc1c95fe",
   "metadata": {},
   "outputs": [],
   "source": [
    "import numpy as np\n",
    "a = np.array([2, 3, 4])\n",
    "a\n",
    "array([2, 3, 4])\n",
    "a.dtype\n",
    "dtype('int64')\n",
    "b = np.array([1.2, 3.5, 5.1])\n",
    "b.dtype\n",
    "dtype('float64')\n",
    "\n",
    "b = np.array([(1.5, 2, 3), (4, 5, 6)])\n",
    "b\n",
    "array([[1.5, 2. , 3. ],\n",
    "       [4. , 5. , 6. ]])\n",
    "c = np.array([[1, 2], [3, 4]], dtype=complex)\n",
    "c\n",
    "\n",
    "np.zeros((3, 4))\n",
    "np.ones((2, 3, 4), dtype=np.int16)\n",
    "\n",
    "np.empty((2, 3)) "
   ]
  },
  {
   "cell_type": "code",
   "execution_count": null,
   "id": "a12f93e5",
   "metadata": {},
   "outputs": [
    {
     "data": {
      "text/plain": [
       "(2, 2)"
      ]
     },
     "execution_count": 41,
     "metadata": {},
     "output_type": "execute_result"
    }
   ],
   "source": [
    "o = np.array([2,4,7,4,6])\n",
    "o\n",
    "type(o)\n",
    "\n",
    "h = np.array([(2,3,4,5,65,97,54), (2,3,4,5,65,97,54)])\n",
    "h.shape\n",
    "h\n",
    "\n",
    "me = np.array([[2,3], [2,4]], dtype=int)\n",
    "me.shape\n",
    "\n",
    "from numpy import pi\n",
    "np.linspace(0, 2, 9)                   # 9 numbers from 0 to 2\n",
    "x = np.linspace(0, 2 * pi, 100)        # useful to evaluate function at lots of points\n",
    "f = np.sin(x)\n",
    "\n"
   ]
  },
  {
   "cell_type": "markdown",
   "id": "e3de3137",
   "metadata": {},
   "source": [
    "## Operacciones básicas"
   ]
  },
  {
   "cell_type": "code",
   "execution_count": null,
   "id": "35301722",
   "metadata": {},
   "outputs": [],
   "source": [
    "a = np.arange(6)                    # 1d array\n",
    "print(a)\n",
    "b = np.arange(12).reshape(4, 3)     # 2d array\n",
    "print(b)\n",
    "c = np.arange(24).reshape(2, 3, 4)  # 3d array\n",
    "print(c)\n",
    "\n",
    "a = np.array([20, 30, 40, 50])\n",
    "b = np.arange(4)\n",
    "b\n",
    "c = a - b\n",
    "c\n",
    "b**2\n",
    "10 * np.sin(a)\n",
    "a < 35\n"
   ]
  },
  {
   "cell_type": "code",
   "execution_count": null,
   "id": "380785cd",
   "metadata": {},
   "outputs": [],
   "source": [
    "A = np.array([[1, 1],\n",
    "              [0, 1]])\n",
    "B = np.array([[2, 0],\n",
    "              [3, 4]])\n",
    "A * B     # elementwise product\n",
    "A @ B     # matrix product\n",
    "A.dot(B)  # another matrix product"
   ]
  },
  {
   "cell_type": "code",
   "execution_count": null,
   "id": "2ee112a3",
   "metadata": {},
   "outputs": [
    {
     "name": "stdout",
     "output_type": "stream",
     "text": [
      "[[ 2  0]\n",
      " [ 9 16]]\n",
      "[[ 8  8]\n",
      " [18 16]]\n",
      "[[ 8  8]\n",
      " [18 16]]\n"
     ]
    },
    {
     "data": {
      "text/plain": [
       "np.int64(1)"
      ]
     },
     "execution_count": 68,
     "metadata": {},
     "output_type": "execute_result"
    }
   ],
   "source": [
    "P = np.array([[1,2],\n",
    "              [3,4]])\n",
    "B = np.array([[2, 0],\n",
    "              [3, 4]])\n",
    "\n",
    "print(P * B)\n",
    "print( P @ B)\n",
    "print(P.dot(B))\n",
    "\n",
    "P.sum()\n",
    "P.min()\n",
    "# P.max()"
   ]
  },
  {
   "cell_type": "code",
   "execution_count": null,
   "id": "2bba21ca",
   "metadata": {},
   "outputs": [
    {
     "name": "stdout",
     "output_type": "stream",
     "text": [
      "[2 3 4 5 4]\n",
      "[0 1 2 3 4]\n",
      "...............................\n",
      "[2 2 2 2 0]\n",
      "[ 4  9 16 25 16]\n"
     ]
    },
    {
     "data": {
      "text/plain": [
       "array([2, 4, 6, 8, 8])"
      ]
     },
     "execution_count": 61,
     "metadata": {},
     "output_type": "execute_result"
    }
   ],
   "source": [
    "n = np.array([2,3,4,5,4])\n",
    "i = np.arange(5)\n",
    "print(n)\n",
    "print(i)\n",
    "\n",
    "p= n-i\n",
    "print('...............................')\n",
    "\n",
    "print(p)\n",
    "\n",
    "print(n**2)\n",
    "\n",
    "l = n+i\n",
    "l"
   ]
  },
  {
   "cell_type": "code",
   "execution_count": null,
   "id": "fd93eab3",
   "metadata": {},
   "outputs": [
    {
     "data": {
      "text/plain": [
       "(3, 7)"
      ]
     },
     "execution_count": 51,
     "metadata": {},
     "output_type": "execute_result"
    }
   ],
   "source": [
    "t =np.arange(3)\n",
    "t\n",
    "l = np.arange(9).reshape(3,3)\n",
    "l\n",
    "\n",
    "k= np.arange(21).reshape(3,7)\n",
    "k.shape"
   ]
  },
  {
   "cell_type": "code",
   "execution_count": null,
   "id": "fc1d9559",
   "metadata": {},
   "outputs": [
    {
     "data": {
      "text/plain": [
       "(11,)"
      ]
     },
     "execution_count": 43,
     "metadata": {},
     "output_type": "execute_result"
    }
   ],
   "source": [
    "np.zeros([3,4])\n",
    "np.arange(10,90,15)\n",
    "\n",
    "f = np.linspace(0,9,11)\n",
    "f.shape"
   ]
  },
  {
   "cell_type": "markdown",
   "id": "cc61aafc",
   "metadata": {},
   "source": [
    "## Funciones universales"
   ]
  },
  {
   "cell_type": "code",
   "execution_count": 3,
   "id": "78f1d889",
   "metadata": {},
   "outputs": [
    {
     "name": "stdout",
     "output_type": "stream",
     "text": [
      "24\n",
      "42\n",
      "8\n",
      "4\n",
      "8\n",
      "16\n",
      "2\n",
      "3\n",
      "1\n",
      "[[24 42  8]\n",
      " [ 4  8 16]\n",
      " [ 2  3  1]]\n",
      "[[24  4  2]\n",
      " [42  8  3]\n",
      " [ 8 16  1]]\n",
      "(3, 3)\n",
      "(3, 3)\n",
      "sssssssssssssssssssssssssssss\n",
      "[[4.89897949 6.4807407  2.82842712]\n",
      " [2.         2.82842712 4.        ]\n",
      " [1.41421356 1.73205081 1.        ]]\n"
     ]
    }
   ],
   "source": [
    "k = np.array([[24,42,8],[4,8,16],[2,3,1]])\n",
    "y= (np.sqrt(k))\n",
    "y\n",
    "\n",
    "k[-1]\n",
    "\n",
    "for v in k.flat:\n",
    "    print(v)\n",
    "\n",
    "print(k)\n",
    "print(k.T)\n",
    "print(k.T.shape)\n",
    "print(k.shape)\n",
    "\n",
    "print('sssssssssssssssssssssssssssss')\n",
    "print(np.sqrt(k))\n",
    "\n"
   ]
  },
  {
   "cell_type": "code",
   "execution_count": null,
   "id": "4d366dbb",
   "metadata": {},
   "outputs": [],
   "source": [
    "a = np.arange(12).reshape(3, 4)\n",
    "b = a > 4\n",
    "b  # `b` is a boolean with `a`'s shape\n",
    "a[b]  # 1d array with the selected elements"
   ]
  },
  {
   "cell_type": "code",
   "execution_count": 7,
   "id": "176f1f01",
   "metadata": {},
   "outputs": [
    {
     "data": {
      "text/plain": [
       "array([[ 0,  0,  0],\n",
       "       [ 0,  0,  0],\n",
       "       [ 6,  7,  8],\n",
       "       [ 9, 10, 11]])"
      ]
     },
     "execution_count": 7,
     "metadata": {},
     "output_type": "execute_result"
    }
   ],
   "source": [
    "m= np.arange(12).reshape(4,3)\n",
    "b= m<6\n",
    "b\n",
    "\n",
    "m[b]=0\n",
    "m"
   ]
  }
 ],
 "metadata": {
  "kernelspec": {
   "display_name": "amv",
   "language": "python",
   "name": "python3"
  },
  "language_info": {
   "codemirror_mode": {
    "name": "ipython",
    "version": 3
   },
   "file_extension": ".py",
   "mimetype": "text/x-python",
   "name": "python",
   "nbconvert_exporter": "python",
   "pygments_lexer": "ipython3",
   "version": "3.12.3"
  }
 },
 "nbformat": 4,
 "nbformat_minor": 5
}
